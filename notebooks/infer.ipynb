{
 "cells": [
  {
   "cell_type": "code",
   "execution_count": 29,
   "id": "642f769a-5b6c-45d0-842e-4725f43096c6",
   "metadata": {},
   "outputs": [],
   "source": [
    "import numpy as np\n",
    "import os\n",
    "import pandas as pd\n",
    "from PIL import Image\n",
    "import matplotlib.pyplot as plt"
   ]
  },
  {
   "cell_type": "markdown",
   "id": "88369ffe-9148-419f-80d3-f5a889f924ba",
   "metadata": {},
   "source": [
    "# Get test labels"
   ]
  },
  {
   "cell_type": "code",
   "execution_count": 20,
   "id": "8f8fb129-d76c-4395-acc1-47a3bac2b8c9",
   "metadata": {},
   "outputs": [],
   "source": [
    "nbr = 20\n",
    "test_labels = np.load(\"../datasets/kuzushiji/kmnist-test-labels.npz\")[\"arr_0\"]\n",
    "test_labels = [int(l) for l in list(test_labels)[0:nbr]]"
   ]
  },
  {
   "cell_type": "markdown",
   "id": "1492a32f-936d-407c-8037-217aed1dedfb",
   "metadata": {},
   "source": [
    "# Infer test images using trained model"
   ]
  },
  {
   "cell_type": "code",
   "execution_count": 21,
   "id": "15062d43-fd9c-4980-a4a0-c36d4c49f08b",
   "metadata": {},
   "outputs": [],
   "source": [
    "from org.symplesys.ocr.infer import infer\n",
    "cp = \"../checkpoints/best_model_params.pt\"\n",
    "pred_labels = [infer(\"../datasets/kuzushiji_images/test/%05d.png\" % i, cp) for i in range(nbr)]"
   ]
  },
  {
   "cell_type": "code",
   "execution_count": 22,
   "id": "1e5cec13-0418-4be2-97eb-3c5ce39e49cf",
   "metadata": {},
   "outputs": [
    {
     "name": "stdout",
     "output_type": "stream",
     "text": [
      "[2, 9, 3, 8, 3, 3, 8, 3, 2, 5, 6, 3, 3, 3, 1, 5, 4, 8, 6, 3]\n",
      "[2, 9, 3, 4, 3, 3, 8, 3, 2, 5, 6, 3, 3, 3, 1, 5, 4, 8, 6, 3]\n"
     ]
    }
   ],
   "source": [
    "print(test_labels)\n",
    "print(pred_labels)"
   ]
  },
  {
   "cell_type": "code",
   "execution_count": 31,
   "id": "5e244801-4a60-4117-ad65-74766cee446f",
   "metadata": {},
   "outputs": [
    {
     "data": {
      "text/plain": [
       "<matplotlib.image.AxesImage at 0x78bf08b2da90>"
      ]
     },
     "execution_count": 31,
     "metadata": {},
     "output_type": "execute_result"
    },
    {
     "data": {
      "image/png": "[encoded data removed]",
      "text/plain": [
       "<Figure size 640x480 with 1 Axes>"
      ]
     },
     "metadata": {},
     "output_type": "display_data"
    }
   ],
   "source": [
    "im = Image.open(\"../datasets/kuzushiji_images/test/00003.png\")\n",
    "plt.imshow(im)"
   ]
  }
 ],
 "metadata": {
  "kernelspec": {
   "display_name": "pytorch",
   "language": "python",
   "name": "pytorch"
  },
  "language_info": {
   "codemirror_mode": {
    "name": "ipython",
    "version": 3
   },
   "file_extension": ".py",
   "mimetype": "text/x-python",
   "name": "python",
   "nbconvert_exporter": "python",
   "pygments_lexer": "ipython3",
   "version": "3.12.7"
  }
 },
 "nbformat": 4,
 "nbformat_minor": 5
}
