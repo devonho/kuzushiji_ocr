{
 "cells": [
  {
   "cell_type": "markdown",
   "id": "8572b300-c840-4223-8b1a-29b67f13cd0d",
   "metadata": {
    "jp-MarkdownHeadingCollapsed": true
   },
   "source": [
    "# Setup "
   ]
  },
  {
   "cell_type": "code",
   "execution_count": 65,
   "id": "44f2053e-fe77-4763-82ab-cf08c3ad2a2c",
   "metadata": {},
   "outputs": [],
   "source": [
    "import os\n",
    "import json\n",
    "import numpy as np\n",
    "from tqdm import tqdm\n",
    "from PIL import Image\n",
    "from numpy import load\n",
    "from google.cloud import storage\n",
    "from google.cloud.storage import transfer_manager"
   ]
  },
  {
   "cell_type": "markdown",
   "id": "270bdd48-cbd3-437c-b896-20ca4463574f",
   "metadata": {
    "jp-MarkdownHeadingCollapsed": true
   },
   "source": [
    "# Extract \n",
    "\n",
    "Extract from Kuzushiji dataset"
   ]
  },
  {
   "cell_type": "code",
   "execution_count": 11,
   "id": "2af038ee-5295-4624-962e-08cc4de15871",
   "metadata": {},
   "outputs": [],
   "source": [
    "# !unzip ../datasets/kuzushiji.zip -d ../datasets/kuzushiji"
   ]
  },
  {
   "cell_type": "code",
   "execution_count": 61,
   "id": "15b6a708-8129-4327-8070-7d90b9a78727",
   "metadata": {},
   "outputs": [],
   "source": [
    "labels_train = load(\"../datasets/kuzushiji/kmnist-train-labels.npz\")['arr_0']\n",
    "img_train = load(\"../datasets/kuzushiji/kmnist-train-imgs.npz\")['arr_0']\n",
    "labels_test = load(\"../datasets/kuzushiji/kmnist-test-labels.npz\")['arr_0']\n",
    "img_test = load(\"../datasets/kuzushiji/kmnist-test-imgs.npz\")['arr_0']"
   ]
  },
  {
   "cell_type": "markdown",
   "id": "10e96751-b944-48f2-bd08-8071c752de93",
   "metadata": {},
   "source": [
    "# Transform\n",
    "\n",
    "Transform numpy arrays into PNG images, labels into JSONL"
   ]
  },
  {
   "cell_type": "code",
   "execution_count": 13,
   "id": "a10d382e-64a7-4cda-8521-2f20884231bb",
   "metadata": {},
   "outputs": [],
   "source": [
    "# !mkdir ../datasets/kuzushiji_images\n",
    "# !mkdir ../datasets/kuzushiji_images/train\n",
    "# !mkdir ../datasets/kuzushiji_images/test"
   ]
  },
  {
   "cell_type": "code",
   "execution_count": 37,
   "id": "565fc534-f044-41ad-a016-87020d8bdc72",
   "metadata": {},
   "outputs": [
    {
     "name": "stderr",
     "output_type": "stream",
     "text": [
      "100%|██████████████████████████████████████████████████████████████████████████████████████████████████████████████████████████████████████████████████████████████████████████████████████████████████████████| 10000/10000 [00:00<00:00, 13091.46it/s]\n"
     ]
    }
   ],
   "source": [
    "def export_to_png(npzfile, folder):   \n",
    "    for i in tqdm(range(npzfile.shape[0])):\n",
    "        img = Image.fromarray(npzfile[i])\n",
    "        img.save(os.path.join(folder,\"%05d.png\" % i))\n",
    "\n",
    "#export_to_png(img_train, \"../datasets/kuzushiji_images/train\")\n",
    "export_to_png(img_test, \"../datasets/kuzushiji_images/test\")"
   ]
  },
  {
   "cell_type": "markdown",
   "id": "78f48d0f-fc83-471e-957c-f7d1640764fb",
   "metadata": {},
   "source": [
    "## Generate JSONL"
   ]
  },
  {
   "cell_type": "code",
   "execution_count": 69,
   "id": "7972c045-dd70-4630-b8dc-37789a71b935",
   "metadata": {},
   "outputs": [],
   "source": [
    "def make_rec(bucket, filename, label, phase):\n",
    "    # https://cloud.google.com/vertex-ai/docs/image-data/classification/prepare-data\n",
    "    rec = {\n",
    "        \"imageGcsUri\": f\"gs://{bucket}/{filename}\",\n",
    "        \"classificationAnnotation\": {\n",
    "            \"displayName\": label,\n",
    "            \"annotationResourceLabels\": {\n",
    "                \"aiplatform.googleapis.com/annotation_set_name\": \"hiragana\",\n",
    "                \"env\": \"dev\"\n",
    "            }\n",
    "        },\n",
    "        \"dataItemResourceLabels\": {\n",
    "        \"aiplatform.googleapis.com/ml_use\": phase\n",
    "        }\n",
    "    }\n",
    "    return rec\n",
    "\n",
    "train_json = [make_rec(\"kuzushiji-mnist\", \"%05d.png\" % i, str(int(label)), \"train\") for i,label in enumerate(list(labels_train)) ]\n",
    "test_json = [make_rec(\"kuzushiji-mnist\", \"%05d.png\" % i, str(int(label)), \"test\") for i,label in enumerate(list(labels_test)) ]"
   ]
  },
  {
   "cell_type": "code",
   "execution_count": 78,
   "id": "24254607-6ce6-4553-bf68-1d6638b520d5",
   "metadata": {},
   "outputs": [],
   "source": [
    "with open(\"../datasets/kuzushiji/dataset.jsonl\", \"w\") as f:\n",
    "    for ln in train_json[0:10]:\n",
    "        f.write(json.dumps(ln) + \"\\n\")\n",
    "    for ln in test_json[0:10]:        \n",
    "        f.write(json.dumps(ln) + \"\\n\")"
   ]
  },
  {
   "cell_type": "code",
   "execution_count": 76,
   "id": "08340894-0f6b-4c37-97c4-1f25909c576f",
   "metadata": {},
   "outputs": [
    {
     "name": "stdout",
     "output_type": "stream",
     "text": [
      "{\"imageGcsUri\": \"gs://kuzushiji-mnist/00000.png\", \"classificationAnnotation\": {\"displayName\": \"8\", \"annotationResourceLabels\": {\"aiplatform.googleapis.com/annotation_set_name\": \"hiragana\", \"env\": \"dev\"}}, \"dataItemResourceLabels\": {\"aiplatform.googleapis.com/ml_use\": \"train\"}}{\"imageGcsUri\": \"gs://kuzushiji-mnist/00001.png\", \"classificationAnnotation\": {\"displayName\": \"7\", \"annotationResourceLabels\": {\"aiplatform.googleapis.com/annotation_set_name\": \"hiragana\", \"env\": \"dev\"}}, \"dataItemResourceLabels\": {\"aiplatform.googleapis.com/ml_use\": \"train\"}}{\"imageGcsUri\": \"gs://kuzushiji-mnist/00002.png\", \"classificationAnnotation\": {\"displayName\": \"0\", \"annotationResourceLabels\": {\"aiplatform.googleapis.com/annotation_set_name\": \"hiragana\", \"env\": \"dev\"}}, \"dataItemResourceLabels\": {\"aiplatform.googleapis.com/ml_use\": \"train\"}}{\"imageGcsUri\": \"gs://kuzushiji-mnist/00003.png\", \"classificationAnnotation\": {\"displayName\": \"1\", \"annotationResourceLabels\": {\"aiplatform.googleapis.com/annotation_set_name\": \"hiragana\", \"env\": \"dev\"}}, \"dataItemResourceLabels\": {\"aiplatform.googleapis.com/ml_use\": \"train\"}}{\"imageGcsUri\": \"gs://kuzushiji-mnist/00004.png\", \"classificationAnnotation\": {\"displayName\": \"4\", \"annotationResourceLabels\": {\"aiplatform.googleapis.com/annotation_set_name\": \"hiragana\", \"env\": \"dev\"}}, \"dataItemResourceLabels\": {\"aiplatform.googleapis.com/ml_use\": \"train\"}}{\"imageGcsUri\": \"gs://kuzushiji-mnist/00005.png\", \"classificationAnnotation\": {\"displayName\": \"2\", \"annotationResourceLabels\": {\"aiplatform.googleapis.com/annotation_set_name\": \"hiragana\", \"env\": \"dev\"}}, \"dataItemResourceLabels\": {\"aiplatform.googleapis.com/ml_use\": \"train\"}}{\"imageGcsUri\": \"gs://kuzushiji-mnist/00006.png\", \"classificationAnnotation\": {\"displayName\": \"4\", \"annotationResourceLabels\": {\"aiplatform.googleapis.com/annotation_set_name\": \"hiragana\", \"env\": \"dev\"}}, \"dataItemResourceLabels\": {\"aiplatform.googleapis.com/ml_use\": \"train\"}}{\"imageGcsUri\": \"gs://kuzushiji-mnist/00007.png\", \"classificationAnnotation\": {\"displayName\": \"8\", \"annotationResourceLabels\": {\"aiplatform.googleapis.com/annotation_set_name\": \"hiragana\", \"env\": \"dev\"}}, \"dataItemResourceLabels\": {\"aiplatform.googleapis.com/ml_use\": \"train\"}}{\"imageGcsUri\": \"gs://kuzushiji-mnist/00008.png\", \"classificationAnnotation\": {\"displayName\": \"1\", \"annotationResourceLabels\": {\"aiplatform.googleapis.com/annotation_set_name\": \"hiragana\", \"env\": \"dev\"}}, \"dataItemResourceLabels\": {\"aiplatform.googleapis.com/ml_use\": \"train\"}}{\"imageGcsUri\": \"gs://kuzushiji-mnist/00009.png\", \"classificationAnnotation\": {\"displayName\": \"1\", \"annotationResourceLabels\": {\"aiplatform.googleapis.com/annotation_set_name\": \"hiragana\", \"env\": \"dev\"}}, \"dataItemResourceLabels\": {\"aiplatform.googleapis.com/ml_use\": \"train\"}}{\"imageGcsUri\": \"gs://kuzushiji-mnist/00000.png\", \"classificationAnnotation\": {\"displayName\": \"2\", \"annotationResourceLabels\": {\"aiplatform.googleapis.com/annotation_set_name\": \"hiragana\", \"env\": \"dev\"}}, \"dataItemResourceLabels\": {\"aiplatform.googleapis.com/ml_use\": \"test\"}}{\"imageGcsUri\": \"gs://kuzushiji-mnist/00001.png\", \"classificationAnnotation\": {\"displayName\": \"9\", \"annotationResourceLabels\": {\"aiplatform.googleapis.com/annotation_set_name\": \"hiragana\", \"env\": \"dev\"}}, \"dataItemResourceLabels\": {\"aiplatform.googleapis.com/ml_use\": \"test\"}}{\"imageGcsUri\": \"gs://kuzushiji-mnist/00002.png\", \"classificationAnnotation\": {\"displayName\": \"3\", \"annotationResourceLabels\": {\"aiplatform.googleapis.com/annotation_set_name\": \"hiragana\", \"env\": \"dev\"}}, \"dataItemResourceLabels\": {\"aiplatform.googleapis.com/ml_use\": \"test\"}}{\"imageGcsUri\": \"gs://kuzushiji-mnist/00003.png\", \"classificationAnnotation\": {\"displayName\": \"8\", \"annotationResourceLabels\": {\"aiplatform.googleapis.com/annotation_set_name\": \"hiragana\", \"env\": \"dev\"}}, \"dataItemResourceLabels\": {\"aiplatform.googleapis.com/ml_use\": \"test\"}}{\"imageGcsUri\": \"gs://kuzushiji-mnist/00004.png\", \"classificationAnnotation\": {\"displayName\": \"3\", \"annotationResourceLabels\": {\"aiplatform.googleapis.com/annotation_set_name\": \"hiragana\", \"env\": \"dev\"}}, \"dataItemResourceLabels\": {\"aiplatform.googleapis.com/ml_use\": \"test\"}}{\"imageGcsUri\": \"gs://kuzushiji-mnist/00005.png\", \"classificationAnnotation\": {\"displayName\": \"3\", \"annotationResourceLabels\": {\"aiplatform.googleapis.com/annotation_set_name\": \"hiragana\", \"env\": \"dev\"}}, \"dataItemResourceLabels\": {\"aiplatform.googleapis.com/ml_use\": \"test\"}}{\"imageGcsUri\": \"gs://kuzushiji-mnist/00006.png\", \"classificationAnnotation\": {\"displayName\": \"8\", \"annotationResourceLabels\": {\"aiplatform.googleapis.com/annotation_set_name\": \"hiragana\", \"env\": \"dev\"}}, \"dataItemResourceLabels\": {\"aiplatform.googleapis.com/ml_use\": \"test\"}}{\"imageGcsUri\": \"gs://kuzushiji-mnist/00007.png\", \"classificationAnnotation\": {\"displayName\": \"3\", \"annotationResourceLabels\": {\"aiplatform.googleapis.com/annotation_set_name\": \"hiragana\", \"env\": \"dev\"}}, \"dataItemResourceLabels\": {\"aiplatform.googleapis.com/ml_use\": \"test\"}}{\"imageGcsUri\": \"gs://kuzushiji-mnist/00008.png\", \"classificationAnnotation\": {\"displayName\": \"2\", \"annotationResourceLabels\": {\"aiplatform.googleapis.com/annotation_set_name\": \"hiragana\", \"env\": \"dev\"}}, \"dataItemResourceLabels\": {\"aiplatform.googleapis.com/ml_use\": \"test\"}}{\"imageGcsUri\": \"gs://kuzushiji-mnist/00009.png\", \"classificationAnnotation\": {\"displayName\": \"5\", \"annotationResourceLabels\": {\"aiplatform.googleapis.com/annotation_set_name\": \"hiragana\", \"env\": \"dev\"}}, \"dataItemResourceLabels\": {\"aiplatform.googleapis.com/ml_use\": \"test\"}}"
     ]
    }
   ],
   "source": [
    "!cat ../datasets/kuzushiji/dataset.jsonl"
   ]
  },
  {
   "cell_type": "markdown",
   "id": "e7a28df0-6247-4ad1-81f3-d382d494ae44",
   "metadata": {},
   "source": [
    "# Load\n",
    "\n",
    "Load into GCP Bucket"
   ]
  },
  {
   "cell_type": "code",
   "execution_count": 73,
   "id": "70bcf157-d372-4379-8b9b-7ad8cce4da38",
   "metadata": {},
   "outputs": [],
   "source": [
    "if \"GOOGLE_APPLICATION_CREDENTIALS\" not in os.environ:\n",
    "    print(\"GCP credentials are needed for storage bucket\")"
   ]
  },
  {
   "cell_type": "code",
   "execution_count": 37,
   "id": "bde5a4ed-f51d-451a-bf5d-cdbf3852fb6f",
   "metadata": {},
   "outputs": [],
   "source": [
    "client = storage.Client()\n",
    "bucket = client.get_bucket('kuzushiji-mnist')"
   ]
  },
  {
   "cell_type": "code",
   "execution_count": 58,
   "id": "40abbda1-eebd-459b-a0c7-900a577a1589",
   "metadata": {},
   "outputs": [
    {
     "name": "stdout",
     "output_type": "stream",
     "text": [
      "Failed: 0\n"
     ]
    }
   ],
   "source": [
    "setnames = [\"train\",\"test\"]\n",
    "\n",
    "for setname in setnames:\n",
    "    root_path = \"../datasets/kuzushiji_images/\"\n",
    "    filenames = [fn for fn in os.listdir(root_path + setname) ]\n",
    "    results = transfer_manager.upload_many_from_filenames(\n",
    "       bucket, \n",
    "       filenames, \n",
    "       source_directory= root_path + setname, \n",
    "       blob_name_prefix= setname + \"/\",\n",
    "       max_workers=1000\n",
    "    )\n",
    "    print(\"Failed:\", len([result for result in results if isinstance(result, Exception)]))\n",
    "\n"
   ]
  }
 ],
 "metadata": {
  "kernelspec": {
   "display_name": "kuzushiji_ocr",
   "language": "python",
   "name": "kuzushiji_ocr"
  },
  "language_info": {
   "codemirror_mode": {
    "name": "ipython",
    "version": 3
   },
   "file_extension": ".py",
   "mimetype": "text/x-python",
   "name": "python",
   "nbconvert_exporter": "python",
   "pygments_lexer": "ipython3",
   "version": "3.12.7"
  }
 },
 "nbformat": 4,
 "nbformat_minor": 5
}
